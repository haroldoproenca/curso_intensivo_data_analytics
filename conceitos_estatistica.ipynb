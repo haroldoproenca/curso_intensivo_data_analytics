{
 "cells": [
  {
   "cell_type": "markdown",
   "id": "c77de446-66e1-435f-b381-40487a80a681",
   "metadata": {},
   "source": [
    "# Conceitos de Estatística\n",
    "\n",
    "Na estatística, um número não é um numero. Um número é um intervalo."
   ]
  },
  {
   "cell_type": "markdown",
   "id": "93569909",
   "metadata": {},
   "source": [
    "## População e Amostra"
   ]
  },
  {
   "cell_type": "markdown",
   "id": "61b26b68",
   "metadata": {},
   "source": [
    "### O que é População\n",
    "\n",
    "A população é o conjunto completo de todos os elementos ou unidades que estão sendo estudados e para os quais você deseja tirar conclusões. Pode ser um grupo de pessoas, objetos, eventos, ou qualquer coisa que seja relevante para a sua pesquisa. Por exemplo, se você estiver interessado na altura de todas as pessoas em um país, a população seria todas as pessoas nesse país."
   ]
  },
  {
   "cell_type": "markdown",
   "id": "ee0bf380",
   "metadata": {},
   "source": [
    "### O que é Amostra\n",
    "\n",
    " Uma amostra é um subconjunto representativo da população. Como muitas vezes é impraticável ou muito caro coletar dados de toda a população, você seleciona uma amostra menor, mas significativa, que deve ser representativa da população maior. A ideia é que, se você coletar e analisar dados da amostra adequadamente, poderá tirar conclusões sobre a população como um todo. No exemplo da altura, em vez de medir a altura de todas as pessoas em um país, você poderia medir a altura de algumas centenas ou milhares delas, formando assim uma amostra."
   ]
  },
  {
   "cell_type": "markdown",
   "id": "9424d2dc",
   "metadata": {},
   "source": [
    "### Em resumo\n",
    "\n",
    "**População**: Imagine que você quer saber a cor favorita de todas as crianças em sua escola. Se você pegar todas as crianças da escola, isso seria a população completa, ou seja, todas as crianças da escola.\n",
    "\n",
    "**Amostra**: Agora, imagine que pegar todas as crianças da escola é muito difícil, porque há muitas delas. Então, você decide perguntar a algumas crianças aleatórias, digamos, 20 delas. Essas 20 crianças são sua amostra. Elas representam todas as crianças da escola. Se você conseguir descobrir a cor favorita dessas 20 crianças, você pode fazer uma estimativa de qual é a cor favorita da maioria das crianças na escola inteira."
   ]
  },
  {
   "cell_type": "markdown",
   "id": "ac57bfe4-c5f5-4efd-ad3f-ddc7ad334e17",
   "metadata": {},
   "source": [
    "## O que é Inferência Estatística\n",
    "\n",
    "Imagine que você quer descobrir uma informação sobre um grupo grande de pessoas, como a média de altura de todas as pessoas em seu país. Medir a altura de todas as pessoas é impossível, certo? Então, o que você faz é pegar uma pequena amostra, um grupo de pessoas representativo, e medir a altura delas.\n",
    "\n",
    "Aqui é onde entra a inferência estatística. Com base nas alturas da amostra, você pode fazer uma \"adivinhação educada\" sobre a altura média de todas as pessoas no país. Isso é como dizer: \"Bem, as pessoas na minha amostra têm, em média, cerca de 1,70 metros de altura, então talvez a altura média de todas as pessoas no país seja próxima a isso.\"\n",
    "\n",
    "A inferência estatística é como usar essa adivinhação educada para tirar conclusões sobre algo grande (a população) com base no que você sabe sobre algo pequeno (a amostra). É útil em muitos campos, como para saber se um novo remédio funciona, se um anúncio de TV é eficaz ou até mesmo para entender como as pessoas votarão em uma eleição, tudo isso usando um pedaço menor de informações."
   ]
  },
  {
   "cell_type": "markdown",
   "id": "e507a463-4dbe-44de-831f-1ee0d0de087d",
   "metadata": {},
   "source": [
    "## Nível de Confiança e Nível de Significância\n",
    "\n",
    "### Nível de Confiança\n",
    " Imagine que você está fazendo um bolo de chocolate e quer ter certeza de que ele vai ficar gostoso. Você decide seguir uma receita que já deu certo muitas vezes, digamos, 95% das vezes. Isso significa que você tem uma confiança de 95% de que seu bolo ficará bom se você seguir a receita corretamente. O nível de confiança é como a \"certeza\" de que algo vai dar certo com base em experiências passadas.\n",
    " Um nível de confiança de 95% significa que, se você repetir a coleta de dados e o cálculo do intervalo de confiança ou do teste de hipóteses muitas vezes, você espera que em cerca de 95% das vezes, o intervalo capture o verdadeiro valor do parâmetro ou o teste de hipóteses chegue a uma conclusão correta.\n",
    "\n",
    "### Nível de Significância\n",
    "Agora, suponha que você está fazendo um teste para ver se uma nova marca de chocolate faz com que o bolo fique mais gostoso. Você decide que só vai acreditar nisso se houver menos de 5% de chance de estar errado. Então, você escolhe um nível de significância de 5%. Isso significa que você está disposto a aceitar uma chance muito pequena (5%) de estar enganado ao afirmar que o novo chocolate faz diferença no sabor. É como ser um pouco \"desconfiado\" e querer ter bastante evidência antes de acreditar em algo novo.\n",
    "Quanto menor o nível de significância escolhido (por exemplo, 0,01 em vez de 0,05), mais \"rigoroso\" será o teste de hipóteses e mais difícil será rejeitar a hipótese nula. Um nível de significância menor torna o teste mais conservador em relação a afirmar que existe uma diferença ou efeito.\n",
    "\n",
    "### Em resumo\n",
    "Em resumo, o nível de confiança é o quanto você confia em algo com base em experiências passadas, enquanto o nível de significância é o quanto você está disposto a desconfiar ou questionar algo antes de aceitar como verdadeiro em um teste. Ambos são importantes na estatística para garantir que nossas conclusões sejam confiáveis e cuidadosas."
   ]
  },
  {
   "cell_type": "markdown",
   "id": "c0e4c559-ee3c-4447-94a3-b5cb3ffadb83",
   "metadata": {},
   "source": [
    "## Dicionário de Dados\n",
    "\n",
    "### O que é dicionário de dados?\n",
    "\n"
   ]
  },
  {
   "cell_type": "markdown",
   "id": "48949ccb-4592-4d24-a735-aaf4a8cfd77d",
   "metadata": {},
   "source": [
    "Também é chamado de metadados (Dados dos próprios dados). Um dicionário de dados na estatística é como um guia ou um mapa para entender informações sobre os dados que usamos em pesquisas ou análises. É como um manual que nos ajuda a entender o que os números e informações significam.\n",
    "\n",
    "Imagine que você está lendo um livro em uma língua estrangeira, e você tem um dicionário que traduz as palavras para sua língua. O dicionário de dados faz algo parecido, mas em vez de traduzir palavras, ele nos ajuda a entender o que os números e informações nos dados estão dizendo.\n",
    "\n",
    "Ele pode nos dizer coisas como \"Esta coluna representa a idade das pessoas\" ou \"Esses números são em dólares\" ou até mesmo \"Cuidado, alguns números podem estar faltando aqui.\" Isso ajuda as pessoas que trabalham com os dados a entenderem e usarem as informações corretamente, evitando confusões e erros. É uma ferramenta muito útil para manter tudo organizado e claro!\n",
    "Aqui estão algumas informações comuns que podem ser incluídas em um dicionário de dados:\n",
    "\n",
    "**Descrição das Variáveis**: Uma lista de todas as variáveis (ou características) nos dados, com uma descrição clara de cada uma. Isso pode incluir o nome da variável, o tipo de dado (por exemplo, numérico ou categórico), a unidade de medida, e assim por diante.**\n",
    "\n",
    "**Estrutura dos Dados**: Informações sobre como os dados estão organizados, incluindo o formato do arquivo, o número de observações (ou linhas) e o número de variáveis (ou colunas).\n",
    "\n",
    "**Códigos e Valores**: Se as variáveis categóricas tiverem códigos ou rótulos específicos associados a categorias, essas informações devem ser incluídas para ajudar na interpretação.\n",
    "\n",
    "**Instruções de Coleta**: Detalhes sobre como os dados foram coletados, incluindo o método, a data da coleta, quaisquer critérios de inclusão ou exclusão e outras informações relevantes.\n",
    "\n",
    "**Qualidade dos Dados**: Qualquer informação sobre a qualidade dos dados, como a presença de valores ausentes, erros ou problemas conhecidos.\n",
    "\n",
    "**Metadados**: Informações adicionais que possam ser úteis para os usuários dos dados, como a fonte dos dados, a equipe de coleta de dados responsável e quaisquer outras notas importantes.\n",
    "\n",
    "Ter um dicionário de dados bem elaborado é fundamental para garantir a transparência e a precisão em análises estatísticas, facilitando a comunicação entre os membros da equipe que trabalham com os dados e ajudando a evitar erros de interpretação. Isso é especialmente importante em projetos de pesquisa, análises de dados e em qualquer contexto onde a informação precisa ser compartilhada e compreendida de forma consistente."
   ]
  },
  {
   "cell_type": "markdown",
   "id": "db1dd238-256d-4c9c-9e5b-f38569916186",
   "metadata": {},
   "source": [
    "### Como criar um dicionário de dados\n",
    "\n",
    "Basicamente, é transpor os nomes das colunas em variáveis (linhas), com a descrição de cada uma e categorizá-las."
   ]
  },
  {
   "cell_type": "markdown",
   "id": "648d1777-b23c-4719-8360-0b69128909e1",
   "metadata": {},
   "source": [
    "### Dicas\n",
    "\n",
    "- Se o dicionário de dados se trata de um ranking, ele está ordenado de alguma forma.\n",
    "- Não colocar espaço, caracteres especiais, etc, nos nomes das variáveis. É comum utilizar underline \"_\", separando palavras."
   ]
  },
  {
   "cell_type": "markdown",
   "id": "19af4d2f-88af-4dfd-8fc5-065b0077dd80",
   "metadata": {},
   "source": [
    "### Dados Quantitativos (ou Numéricos)\n",
    "\n",
    "Os dados quantitativos são expressos em números e representam quantidades mensuráveis.\n",
    "Eles são geralmente associados a características que podem ser quantificadas, como idade, altura, peso, renda, temperatura, quantidade de vendas, etc.\n",
    "Os dados quantitativos podem ser **contínuos** (como a altura, que pode ter uma ampla gama de valores) ou **discretos** (como o número de carros em um estacionamento, que são contados em números inteiros).\n",
    "A análise estatística é frequentemente usada para explorar e resumir dados quantitativos, incluindo médias, desvios padrão, histogramas, regressão, etc.\n",
    "Imagine que você está medindo coisas como altura, peso, idade ou temperatura.  Esses dados são números e você pode fazer cálculos com eles, como somar, subtrair, multiplicar ou dividir.\n",
    "Por exemplo, você pode somar as idades de várias pessoas para encontrar a média de idade, ou calcular a diferença de temperatura entre dois dias.\n",
    "Os dados quantitativos são como números que você usa em matemática."
   ]
  },
  {
   "cell_type": "markdown",
   "id": "272eda40-2b85-453d-8814-8bf4a70139fe",
   "metadata": {},
   "source": [
    "### Dados Qualitativos (ou Categóricos)\n",
    "\n",
    "Os dados qualitativos são expressos em categorias ou rótulos, em oposição a números.\n",
    "Eles representam características que não podem ser quantificadas diretamente, como cor, gênero, estado civil, tipo de produto, marca de carro, etc.\n",
    "Os dados qualitativos são divididos em categorias mutuamente exclusivas e exaustivas, o que significa que cada observação pertence a uma única categoria e todas as categorias juntas cobrem todo o espaço das possibilidades.\n",
    "A análise de dados qualitativos envolve a contagem de frequência das categorias, a criação de tabelas de contingência e a aplicação de técnicas estatísticas específicas, como o teste qui-quadrado, para identificar relações entre variáveis categóricas.\n",
    "Agora, pense em características que não são números, mas palavras ou categorias. Por exemplo, cores como vermelho, azul ou verde, ou tipos de carros como sedan, SUV ou caminhonete.\n",
    "Esses dados não podem ser usados em cálculos matemáticos da mesma forma que os dados quantitativos. Em vez disso, você os usa para organizar informações em grupos e contar quantas vezes cada categoria aparece.\n",
    "Os dados qualitativos são como etiquetas ou rótulos que ajudam a classificar as coisas.\n",
    "\n",
    "\n",
    "- **Variáveis Nominais**:\n",
    "\n",
    "Variáveis nominais representam categorias ou rótulos que não têm uma ordem específica ou ranking.\n",
    "Exemplos de variáveis nominais incluem cor dos olhos, gênero, estado civil, raça, tipo de animal de estimação, etc.\n",
    "As categorias em uma variável nominal são mutuamente exclusivas e não podem ser classificadas em uma ordem específica. Por exemplo, não faz sentido dizer que uma cor de olhos é \"maior\" ou \"menor\" do que outra.\n",
    "A análise de variáveis nominais envolve principalmente contagem de frequências e cálculo de porcentagens para determinar a distribuição de categorias.\n",
    "\n",
    "- **Variáveis Ordinais**:\n",
    "\n",
    "Variáveis ordinais também representam categorias, mas essas categorias têm uma ordem específica ou ranking.\n",
    "Exemplos de variáveis ordinais incluem nível de educação (como ensino fundamental, ensino médio, graduação, pós-graduação), classificação de satisfação do cliente (como \"muito insatisfeito\", \"insatisfeito\", \"neutro\", \"satisfeito\", \"muito satisfeito\"), etc.\n",
    "As categorias em uma variável ordinal têm uma hierarquia, o que significa que você pode dizer que uma categoria é \"melhor\" ou \"pior\" do que outra com base na ordem.\n",
    "Na análise de variáveis ordinais, é possível calcular medidas de tendência central (como a mediana) e medidas de dispersão, embora algumas informações sobre a magnitude das diferenças entre categorias possam ser perdidas.\n",
    "\n",
    "### E se for uma data?\n",
    "\n",
    "Uma variável de data geralmente se encaixa em duas categorias possíveis:\n",
    "\n",
    "- Variável Quantitativa:\n",
    "Imagine que você está trabalhando com datas, como o dia de nascimento das pessoas.\n",
    "Embora as datas sejam escritas em formato de texto (por exemplo, \"01/05/1990\"), você pode realizar cálculos com elas, como calcular a idade das pessoas subtraindo o ano de nascimento do ano atual.\n",
    "Nesse caso, as datas são tratadas como números e são chamadas de variáveis quantitativas.\n",
    "\n",
    "- Variável Ordinal:\n",
    "Agora, pense em datas que representam eventos em uma ordem específica, como as etapas de um projeto que ocorrem em sequência.\n",
    "Embora as datas ainda sejam escritas como texto, a ordem em que esses eventos ocorrem é importante.\n",
    "Nesse caso, você pode considerar as datas como variáveis ordinais, porque a ordem delas é mais relevante do que os valores numéricos precisos.\n",
    "\n",
    "Portanto, se você usa datas como números para cálculos, elas são quantitativas. Se você as utiliza principalmente para representar eventos em uma ordem específica, são ordinais. A escolha depende de como você deseja analisar e interpretar seus dados.\n",
    "Data é data. Depende muito de como você vai trabalhar com a variável."
   ]
  },
  {
   "cell_type": "markdown",
   "id": "35623f75",
   "metadata": {},
   "source": []
  }
 ],
 "metadata": {
  "kernelspec": {
   "display_name": "Python 3 (ipykernel)",
   "language": "python",
   "name": "python3"
  },
  "language_info": {
   "codemirror_mode": {
    "name": "ipython",
    "version": 3
   },
   "file_extension": ".py",
   "mimetype": "text/x-python",
   "name": "python",
   "nbconvert_exporter": "python",
   "pygments_lexer": "ipython3",
   "version": "3.9.13"
  }
 },
 "nbformat": 4,
 "nbformat_minor": 5
}
