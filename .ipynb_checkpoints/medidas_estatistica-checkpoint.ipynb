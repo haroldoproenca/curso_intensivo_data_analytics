{
 "cells": [
  {
   "cell_type": "markdown",
   "metadata": {},
   "source": [
    "# Medidas de Posição"
   ]
  },
  {
   "cell_type": "markdown",
   "metadata": {},
   "source": [
    "## Simbolos\n",
    "![Alt text](image.png)\n",
    "\n",
    "![Alt text](image-1.png)"
   ]
  },
  {
   "cell_type": "markdown",
   "metadata": {},
   "source": [
    "## Média\n",
    "\n",
    "\n",
    "A média na estatística é um número que representa o valor típico ou o \"centro\" de um conjunto de dados. Para entender isso de maneira didática, imagine que você tem uma cesta de maçãs com diferentes pesos:\n",
    "\n",
    "Maçã 1: 150 gramas\n",
    "Maçã 2: 180 gramas\n",
    "Maçã 3: 160 gramas\n",
    "Maçã 4: 140 gramas\n",
    "Maçã 5: 170 gramas\n",
    "A média dos pesos dessas maçãs é calculada somando todos os pesos e dividindo pelo número de maçãs. Portanto, somamos 150 + 180 + 160 + 140 + 170 = 800 gramas. Em seguida, dividimos essa soma pelo número de maçãs, que é 5, pois temos 5 maçãs.\n",
    "\n",
    "Média = (150 + 180 + 160 + 140 + 170) / 5 = 800 / 5 = 160 gramas\n",
    "\n",
    "Então, a média dos pesos das maçãs é 160 gramas. Isso significa que, em média, cada maçã na cesta tem um peso de 160 gramas. É como se você pudesse distribuir igualmente a quantidade total de peso entre todas as maçãs.\n",
    "\n",
    "A média é uma medida importante na estatística porque ajuda a resumir um conjunto de dados, proporcionando uma noção de valor central. No exemplo das maçãs, a média nos dá uma ideia de quanto peso podemos esperar que uma maçã típica tenha.\n",
    "\n",
    "\n",
    "- Fórmula:\n",
    "  \n",
    "  ![Alt text](image-2.png)\n",
    "  "
   ]
  },
  {
   "cell_type": "markdown",
   "metadata": {},
   "source": [
    "## Mediana\n",
    "\n",
    "Para calcular a mediana, o dado precisa estar ordenado. O princípio da mediana é trabalhar com volume.\n",
    "\n",
    "\n",
    "\n",
    "A mediana na estatística é um valor que divide um conjunto de dados em duas partes iguais. Para entender isso de maneira didática, imagine que você tem um grupo de amigos e deseja encontrar a mediana das alturas deles.\n",
    "\n",
    "Vamos supor que você organize as alturas dos seus amigos em ordem crescente, da menor para a maior. Agora, a mediana é o valor que está bem no meio da lista, ou seja, metade dos seus amigos são mais baixos do que a mediana e metade são mais altos.\n",
    "\n",
    "Por exemplo, suponha que as alturas dos seus amigos sejam:\n",
    "\n",
    "Amigo A: 150 cm\n",
    "Amigo B: 155 cm\n",
    "Amigo C: 160 cm\n",
    "Amigo D: 165 cm\n",
    "Amigo E: 170 cm\n",
    "\n",
    "Primeiro, coloque as alturas em ordem crescente:\n",
    "\n",
    "150 cm, 155 cm, 160 cm, 165 cm, 170 cm\n",
    "\n",
    "Agora, você encontra a mediana que está no meio da lista. Neste caso, a terceira altura, que é 160 cm, é a mediana. Isso significa que metade dos seus amigos tem uma altura menor que 160 cm e metade tem uma altura maior que 160 cm.\n",
    "\n",
    "A mediana é uma medida útil quando você deseja saber qual é o valor do meio em um conjunto de dados, especialmente quando os dados têm valores extremos que podem afetar muito a média. Ela não depende dos valores específicos, apenas da ordem em que estão classificados, tornando-a uma medida de tendência central robusta.\n",
    "\n",
    "\n",
    "- Fórmula:\n",
    "\n",
    "![Alt text](image-3.png)\n",
    "\n"
   ]
  },
  {
   "cell_type": "markdown",
   "metadata": {},
   "source": [
    "## Moda\n",
    "\n",
    "É útil quando utilizamos uma variável categórica e não númerica. Mostra o que mais aparece, mostra o que está na moda.\n",
    "\n",
    "\n",
    "A moda na estatística é o valor que aparece com mais frequência em um conjunto de dados. Para entender isso de maneira didática, imagine que você está olhando para as cores favoritas de um grupo de crianças. A cor que mais crianças escolherem como sua cor favorita será a moda.\n",
    "\n",
    "Aqui está um exemplo simplificado:\n",
    "\n",
    "Criança A: Azul\n",
    "Criança B: Vermelho\n",
    "Criança C: Azul\n",
    "Criança D: Verde\n",
    "Criança E: Azul\n",
    "Neste caso, a cor \"Azul\" é a moda, porque é a cor que aparece com mais frequência. Três crianças escolheram o azul como sua cor favorita, enquanto as outras cores foram escolhidas apenas uma vez.\n",
    "\n",
    "A moda é útil na estatística porque nos ajuda a identificar o valor mais comum ou predominante em um conjunto de dados. É especialmente relevante quando estamos lidando com categorias ou valores que podem ser agrupados, como cores, números inteiros ou categorias de produtos.\n",
    "\n",
    "No entanto, é importante notar que nem sempre existe uma moda clara em um conjunto de dados. Às vezes, todos os valores ocorrem com a mesma frequência e, nesse caso, dizemos que não há uma moda. Também é possível que um conjunto de dados tenha múltiplas modas se dois ou mais valores ocorrerem com a mesma frequência máxima."
   ]
  },
  {
   "cell_type": "markdown",
   "metadata": {},
   "source": [
    "# Percentil\n",
    "\n",
    "Dividir em faixas/caixas/produtos. Voce consegue dividir em outros volumes. Pode ser dividido de 1% em 1%.\n",
    "\n",
    "A mediana é um Percentil 50.\n",
    "\n",
    "O percentil na estatística é uma medida que ajuda a entender como um valor específico em um conjunto de dados se compara em relação aos demais valores. De maneira simples e didática, você pode pensar nos percentis como \"posições\" em um ranking ordenado de dados.\n",
    "\n",
    "Vamos usar um exemplo para explicar melhor:\n",
    "\n",
    "Imagine que você fez um teste com 100 pontos, e há 100 alunos na sua turma. Você e seus colegas obtiveram as seguintes pontuações:\n",
    "\n",
    "João: 95 pontos\n",
    "Maria: 92 pontos\n",
    "Pedro: 89 pontos\n",
    "Ana: 85 pontos\n",
    "Carlos: 80 pontos\n",
    "Laura: 78 pontos\n",
    "André: 75 pontos\n",
    "Sofia: 70 pontos\n",
    "Lucas: 68 pontos\n",
    "Beatriz: 65 pontos\n",
    "Agora, vamos supor que você deseja saber em qual posição sua pontuação (digamos, 85 pontos) se encaixa em relação ao desempenho geral da turma. Para fazer isso, você pode calcular o percentil.\n",
    "\n",
    "O percentil 50 (ou mediana) representaria a posição em que metade da turma obteve uma pontuação mais baixa que você e metade obteve uma pontuação mais alta. Neste caso, a mediana seria entre Pedro e Ana, ou seja, sua pontuação de 85 pontos está na mesma posição que a mediana.\n",
    "\n",
    "Se você estiver interessado em saber como está acima ou abaixo da maioria dos alunos, você pode calcular o percentil. Por exemplo, o percentil 75 indicaria que você está em uma posição melhor do que 75% dos alunos, enquanto o percentil 25 indicaria que você está em uma posição melhor do que apenas 25% dos alunos.\n",
    "\n",
    "Portanto, os percentis ajudam a entender a posição relativa de um valor específico em um conjunto de dados, o que pode ser útil para avaliar o desempenho, identificar outliers (valores extremos) e tomar decisões informadas com base em comparações dentro de um grupo de dados."
   ]
  },
  {
   "cell_type": "markdown",
   "metadata": {},
   "source": []
  },
  {
   "cell_type": "markdown",
   "metadata": {},
   "source": [
    "## Quartil"
   ]
  }
 ],
 "metadata": {
  "kernelspec": {
   "display_name": "Python 3",
   "language": "python",
   "name": "python3"
  },
  "language_info": {
   "name": "python",
   "version": "3.9.13"
  },
  "orig_nbformat": 4
 },
 "nbformat": 4,
 "nbformat_minor": 2
}
