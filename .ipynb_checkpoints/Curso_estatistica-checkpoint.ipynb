{
 "cells": [
  {
   "cell_type": "markdown",
   "id": "c77de446-66e1-435f-b381-40487a80a681",
   "metadata": {},
   "source": [
    "# Curso Estatística\n",
    "\n",
    "Na estatística, um número não é um numero. Um número é um intervalo."
   ]
  },
  {
   "cell_type": "markdown",
   "id": "ac57bfe4-c5f5-4efd-ad3f-ddc7ad334e17",
   "metadata": {},
   "source": [
    "## O que é Inferência Estatística\n",
    "\n",
    "Imagine que você quer descobrir uma informação sobre um grupo grande de pessoas, como a média de altura de todas as pessoas em seu país. Medir a altura de todas as pessoas é impossível, certo? Então, o que você faz é pegar uma pequena amostra, um grupo de pessoas representativo, e medir a altura delas.\n",
    "\n",
    "Aqui é onde entra a inferência estatística. Com base nas alturas da amostra, você pode fazer uma \"adivinhação educada\" sobre a altura média de todas as pessoas no país. Isso é como dizer: \"Bem, as pessoas na minha amostra têm, em média, cerca de 1,70 metros de altura, então talvez a altura média de todas as pessoas no país seja próxima a isso.\"\n",
    "\n",
    "A inferência estatística é como usar essa adivinhação educada para tirar conclusões sobre algo grande (a população) com base no que você sabe sobre algo pequeno (a amostra). É útil em muitos campos, como para saber se um novo remédio funciona, se um anúncio de TV é eficaz ou até mesmo para entender como as pessoas votarão em uma eleição, tudo isso usando um pedaço menor de informações."
   ]
  },
  {
   "cell_type": "markdown",
   "id": "e507a463-4dbe-44de-831f-1ee0d0de087d",
   "metadata": {},
   "source": [
    "## Nível de Confiança e Nível de Significância\n",
    "\n",
    "### Nível de Confiança\n",
    " Imagine que você está fazendo um bolo de chocolate e quer ter certeza de que ele vai ficar gostoso. Você decide seguir uma receita que já deu certo muitas vezes, digamos, 95% das vezes. Isso significa que você tem uma confiança de 95% de que seu bolo ficará bom se você seguir a receita corretamente. O nível de confiança é como a \"certeza\" de que algo vai dar certo com base em experiências passadas.\n",
    " Um nível de confiança de 95% significa que, se você repetir a coleta de dados e o cálculo do intervalo de confiança ou do teste de hipóteses muitas vezes, você espera que em cerca de 95% das vezes, o intervalo capture o verdadeiro valor do parâmetro ou o teste de hipóteses chegue a uma conclusão correta.\n",
    "\n",
    "### Nível de Significância\n",
    "Agora, suponha que você está fazendo um teste para ver se uma nova marca de chocolate faz com que o bolo fique mais gostoso. Você decide que só vai acreditar nisso se houver menos de 5% de chance de estar errado. Então, você escolhe um nível de significância de 5%. Isso significa que você está disposto a aceitar uma chance muito pequena (5%) de estar enganado ao afirmar que o novo chocolate faz diferença no sabor. É como ser um pouco \"desconfiado\" e querer ter bastante evidência antes de acreditar em algo novo.\n",
    "Quanto menor o nível de significância escolhido (por exemplo, 0,01 em vez de 0,05), mais \"rigoroso\" será o teste de hipóteses e mais difícil será rejeitar a hipótese nula. Um nível de significância menor torna o teste mais conservador em relação a afirmar que existe uma diferença ou efeito.\n",
    "\n",
    "### Em resumo\n",
    "Em resumo, o nível de confiança é o quanto você confia em algo com base em experiências passadas, enquanto o nível de significância é o quanto você está disposto a desconfiar ou questionar algo antes de aceitar como verdadeiro em um teste. Ambos são importantes na estatística para garantir que nossas conclusões sejam confiáveis e cuidadosas."
   ]
  },
  {
   "cell_type": "markdown",
   "id": "c0e4c559-ee3c-4447-94a3-b5cb3ffadb83",
   "metadata": {},
   "source": [
    "## Dicionário de Dados\n",
    "\n",
    "### O que é dicionário de dados?\n",
    "\n"
   ]
  },
  {
   "cell_type": "markdown",
   "id": "48949ccb-4592-4d24-a735-aaf4a8cfd77d",
   "metadata": {},
   "source": [
    "Um dicionário de dados na estatística é como um guia ou um mapa para entender informações sobre os dados que usamos em pesquisas ou análises. É como um manual que nos ajuda a entender o que os números e informações significam.\n",
    "\n",
    "Imagine que você está lendo um livro em uma língua estrangeira, e você tem um dicionário que traduz as palavras para sua língua. O dicionário de dados faz algo parecido, mas em vez de traduzir palavras, ele nos ajuda a entender o que os números e informações nos dados estão dizendo.\n",
    "\n",
    "Ele pode nos dizer coisas como \"Esta coluna representa a idade das pessoas\" ou \"Esses números são em dólares\" ou até mesmo \"Cuidado, alguns números podem estar faltando aqui.\" Isso ajuda as pessoas que trabalham com os dados a entenderem e usarem as informações corretamente, evitando confusões e erros. É uma ferramenta muito útil para manter tudo organizado e claro!\n",
    "Aqui estão algumas informações comuns que podem ser incluídas em um dicionário de dados:\n",
    "\n",
    "**Descrição das Variáveis**: Uma lista de todas as variáveis (ou características) nos dados, com uma descrição clara de cada uma. Isso pode incluir o nome da variável, o tipo de dado (por exemplo, numérico ou categórico), a unidade de medida, e assim por diante.**\n",
    "\n",
    "**Estrutura dos Dados**: Informações sobre como os dados estão organizados, incluindo o formato do arquivo, o número de observações (ou linhas) e o número de variáveis (ou colunas).\n",
    "\n",
    "**Códigos e Valores**: Se as variáveis categóricas tiverem códigos ou rótulos específicos associados a categorias, essas informações devem ser incluídas para ajudar na interpretação.\n",
    "\n",
    "**Instruções de Coleta**: Detalhes sobre como os dados foram coletados, incluindo o método, a data da coleta, quaisquer critérios de inclusão ou exclusão e outras informações relevantes.\n",
    "\n",
    "**Qualidade dos Dados**: Qualquer informação sobre a qualidade dos dados, como a presença de valores ausentes, erros ou problemas conhecidos.\n",
    "\n",
    "**Metadados**: Informações adicionais que possam ser úteis para os usuários dos dados, como a fonte dos dados, a equipe de coleta de dados responsável e quaisquer outras notas importantes.\n",
    "\n",
    "Ter um dicionário de dados bem elaborado é fundamental para garantir a transparência e a precisão em análises estatísticas, facilitando a comunicação entre os membros da equipe que trabalham com os dados e ajudando a evitar erros de interpretação. Isso é especialmente importante em projetos de pesquisa, análises de dados e em qualquer contexto onde a informação precisa ser compartilhada e compreendida de forma consistente."
   ]
  },
  {
   "cell_type": "markdown",
   "id": "db1dd238-256d-4c9c-9e5b-f38569916186",
   "metadata": {},
   "source": [
    "### Como criar um dicionário de dados\n",
    "\n",
    "Basicamente, é transpor os nomes das colunas em variáveis (linhas), com a descrição de cada uma e categorizá-las."
   ]
  },
  {
   "cell_type": "markdown",
   "id": "648d1777-b23c-4719-8360-0b69128909e1",
   "metadata": {},
   "source": [
    "### Dicas\n",
    "\n",
    "- Se o dicionário de dados se trata de um ranking, ele está ordenado de alguma forma."
   ]
  },
  {
   "cell_type": "markdown",
   "id": "19af4d2f-88af-4dfd-8fc5-065b0077dd80",
   "metadata": {},
   "source": [
    "### Dados Quantitativos (ou Numéricos)\n",
    "\n",
    "Os dados quantitativos são expressos em números e representam quantidades mensuráveis.\r\n",
    "Eles são geralmente associados a características que podem ser quantificadas, como idade, altura, peso, renda, temperatura, quantidade de vendas, etc.\r\n",
    "Os dados quantitativos podem se**r contínu**os (como a altura, que pode ter uma ampla gama de valores) o**u discret**os (como o número de carros em um estacionamento, que são contados em números inteiros).\r\n",
    "A análise estatística é frequentemente usada para explorar e resumir dados quantitativos, incluindo médias, desvios padrão, histogramas, regressão, etc.\n",
    "\n"
   ]
  },
  {
   "cell_type": "code",
   "execution_count": null,
   "id": "272eda40-2b85-453d-8814-8bf4a70139fe",
   "metadata": {},
   "outputs": [],
   "source": []
  }
 ],
 "metadata": {
  "kernelspec": {
   "display_name": "Python 3 (ipykernel)",
   "language": "python",
   "name": "python3"
  },
  "language_info": {
   "codemirror_mode": {
    "name": "ipython",
    "version": 3
   },
   "file_extension": ".py",
   "mimetype": "text/x-python",
   "name": "python",
   "nbconvert_exporter": "python",
   "pygments_lexer": "ipython3",
   "version": "3.9.13"
  }
 },
 "nbformat": 4,
 "nbformat_minor": 5
}
